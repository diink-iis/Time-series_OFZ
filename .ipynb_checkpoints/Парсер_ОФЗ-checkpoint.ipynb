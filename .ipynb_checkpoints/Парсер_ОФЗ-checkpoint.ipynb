{
 "cells": [
  {
   "cell_type": "code",
   "execution_count": 1,
   "id": "4efe4678-bf06-4880-b7b4-93422dc3b3a6",
   "metadata": {},
   "outputs": [],
   "source": [
    "import pandas as pd\n",
    "from selenium import webdriver\n",
    "from selenium.webdriver.common.by import By\n",
    "from bs4 import BeautifulSoup \n",
    "from tqdm.notebook import tqdm\n",
    "import re"
   ]
  },
  {
   "cell_type": "code",
   "execution_count": 2,
   "id": "7f8ae83b-9cc8-47dc-adec-1cebfc7a885c",
   "metadata": {},
   "outputs": [
    {
     "name": "stderr",
     "output_type": "stream",
     "text": [
      "C:\\Users\\isaev\\AppData\\Local\\Temp\\ipykernel_6952\\2264336128.py:2: DeprecationWarning: executable_path has been deprecated, please pass in a Service object\n",
      "  driver = webdriver.Chrome(executable_path='chromedriver.exe')\n"
     ]
    }
   ],
   "source": [
    "# Create a new Chrome session\n",
    "driver = webdriver.Chrome(executable_path='chromedriver.exe')"
   ]
  },
  {
   "cell_type": "code",
   "execution_count": 3,
   "id": "5a1621b2-4079-45ad-bb6b-567c8b17a29e",
   "metadata": {},
   "outputs": [],
   "source": [
    "url = \"https://cbr.ru/hd_base/zcyc_params/?UniDbQuery.Posted=True&UniDbQuery.From=01.01.2022&UniDbQuery.To=12.08.2022\"\n",
    "driver.get(url)"
   ]
  },
  {
   "cell_type": "code",
   "execution_count": 4,
   "id": "82624e0b-6031-4275-9b7a-a520ebc49a50",
   "metadata": {},
   "outputs": [],
   "source": [
    "soup = BeautifulSoup(driver.page_source, 'lxml')\n",
    "table = soup.find_all('table')\n",
    "dfs = pd.read_html(str(table))"
   ]
  },
  {
   "cell_type": "code",
   "execution_count": 7,
   "id": "d18eb7bd-4660-4782-9249-4df7f1eb7c7a",
   "metadata": {},
   "outputs": [],
   "source": [
    "dfs[2].to_csv(\"Облигации.csv\")"
   ]
  },
  {
   "cell_type": "code",
   "execution_count": null,
   "id": "854b6533-0db9-46e5-99b5-936d4b7773ce",
   "metadata": {},
   "outputs": [],
   "source": []
  }
 ],
 "metadata": {
  "kernelspec": {
   "display_name": "Python 3 (ipykernel)",
   "language": "python",
   "name": "python3"
  },
  "language_info": {
   "codemirror_mode": {
    "name": "ipython",
    "version": 3
   },
   "file_extension": ".py",
   "mimetype": "text/x-python",
   "name": "python",
   "nbconvert_exporter": "python",
   "pygments_lexer": "ipython3",
   "version": "3.9.12"
  }
 },
 "nbformat": 4,
 "nbformat_minor": 5
}
