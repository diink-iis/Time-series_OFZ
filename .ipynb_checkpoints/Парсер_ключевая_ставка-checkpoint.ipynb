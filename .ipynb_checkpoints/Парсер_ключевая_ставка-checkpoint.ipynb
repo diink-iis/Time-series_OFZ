{
 "cells": [
  {
   "cell_type": "code",
   "execution_count": 1,
   "id": "e06dad0c-257c-44d0-b106-9b1989852069",
   "metadata": {},
   "outputs": [],
   "source": [
    "import pandas as pd\n",
    "from selenium import webdriver\n",
    "from selenium.webdriver.common.by import By\n",
    "from bs4 import BeautifulSoup \n",
    "from tqdm.notebook import tqdm\n",
    "import re"
   ]
  },
  {
   "cell_type": "code",
   "execution_count": 2,
   "id": "6b282fea-783e-4099-9316-3bf30bbf9903",
   "metadata": {},
   "outputs": [
    {
     "name": "stderr",
     "output_type": "stream",
     "text": [
      "C:\\Users\\isaev\\AppData\\Local\\Temp\\ipykernel_11140\\2264336128.py:2: DeprecationWarning: executable_path has been deprecated, please pass in a Service object\n",
      "  driver = webdriver.Chrome(executable_path='chromedriver.exe')\n"
     ]
    }
   ],
   "source": [
    "# Create a new Chrome session\n",
    "driver = webdriver.Chrome(executable_path='chromedriver.exe')"
   ]
  },
  {
   "cell_type": "code",
   "execution_count": 3,
   "id": "c5cdd428-4fe2-48d3-a5d6-c02bcce40215",
   "metadata": {},
   "outputs": [],
   "source": [
    "url = \"https://cbr.ru/hd_base/KeyRate/?UniDbQuery.Posted=True&UniDbQuery.From=01.01.2022&UniDbQuery.To=12.08.2022\"\n",
    "driver.get(url)"
   ]
  },
  {
   "cell_type": "code",
   "execution_count": 4,
   "id": "ff220de2-0c3f-4faa-8042-917384663518",
   "metadata": {},
   "outputs": [],
   "source": [
    "soup = BeautifulSoup(driver.page_source, 'lxml')\n",
    "table = soup.find_all('table')\n",
    "dfs = pd.read_html(str(table))"
   ]
  },
  {
   "cell_type": "code",
   "execution_count": 6,
   "id": "28b7cbd5-a014-405d-992d-00522cd9a03d",
   "metadata": {},
   "outputs": [],
   "source": [
    "dfs[2].to_csv(\"Ключевая_ставка.csv\")"
   ]
  },
  {
   "cell_type": "code",
   "execution_count": null,
   "id": "5a7dd2df-1545-40d4-b382-ec40029c3981",
   "metadata": {},
   "outputs": [],
   "source": []
  }
 ],
 "metadata": {
  "kernelspec": {
   "display_name": "Python 3 (ipykernel)",
   "language": "python",
   "name": "python3"
  },
  "language_info": {
   "codemirror_mode": {
    "name": "ipython",
    "version": 3
   },
   "file_extension": ".py",
   "mimetype": "text/x-python",
   "name": "python",
   "nbconvert_exporter": "python",
   "pygments_lexer": "ipython3",
   "version": "3.9.12"
  }
 },
 "nbformat": 4,
 "nbformat_minor": 5
}
